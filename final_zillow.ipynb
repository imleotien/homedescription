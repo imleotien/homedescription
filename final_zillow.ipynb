{
 "cells": [
  {
   "cell_type": "code",
   "execution_count": 1,
   "id": "7f1cc81d",
   "metadata": {},
   "outputs": [],
   "source": [
    "!pip install -q findspark\n",
    "import findspark\n",
    "findspark.init()"
   ]
  },
  {
   "cell_type": "code",
   "execution_count": 2,
   "id": "92516e96",
   "metadata": {},
   "outputs": [],
   "source": [
    "import pandas as pd\n",
    "from pyspark import SparkContext\n",
    "from pyspark.sql import SparkSession\n",
    "import pyspark.sql"
   ]
  },
  {
   "cell_type": "code",
   "execution_count": 3,
   "id": "f1aa0b8a",
   "metadata": {},
   "outputs": [],
   "source": [
    "spark = SparkSession.builder.getOrCreate()\n",
    "sc = SparkContext.getOrCreate()"
   ]
  },
  {
   "cell_type": "code",
   "execution_count": 115,
   "id": "8740c496",
   "metadata": {},
   "outputs": [],
   "source": [
    "path = \"/Users/leotien/Desktop/datares/homeDescpirtion/zillow.csv\"\n",
    "spark_zillow = spark.read.csv(path, header = True)"
   ]
  },
  {
   "cell_type": "markdown",
   "id": "04f7dda0",
   "metadata": {},
   "source": [
    "Tokenization is the process of braking down sentences into individual words. The default pattern uses \" \""
   ]
  },
  {
   "cell_type": "code",
   "execution_count": 10,
   "id": "6432a0d1",
   "metadata": {},
   "outputs": [],
   "source": [
    "## tokenizer\n",
    "from pyspark.ml.feature import Tokenizer, RegexTokenizer\n",
    "from pyspark.sql.functions import col, udf, regexp_replace\n",
    "from pyspark.sql.types import IntegerType"
   ]
  },
  {
   "cell_type": "code",
   "execution_count": 11,
   "id": "4e82b3ca",
   "metadata": {},
   "outputs": [],
   "source": [
    "#spark_zillow = spark_zillow.withColumnRenamed(\"_c0\", \"Id\")"
   ]
  },
  {
   "cell_type": "code",
   "execution_count": 116,
   "id": "5a30c391",
   "metadata": {
    "scrolled": true
   },
   "outputs": [
    {
     "name": "stdout",
     "output_type": "stream",
     "text": [
      "root\n",
      " |-- Street Address: string (nullable = true)\n",
      " |-- City: string (nullable = true)\n",
      " |-- County: string (nullable = true)\n",
      " |-- State: string (nullable = true)\n",
      " |-- Country: string (nullable = true)\n",
      " |-- Zipcode: string (nullable = true)\n",
      " |-- Ziilow Id: string (nullable = true)\n",
      " |-- Property Url: string (nullable = true)\n",
      " |-- Bedrooms: string (nullable = true)\n",
      " |-- Bathrooms: string (nullable = true)\n",
      " |-- Property Status: string (nullable = true)\n",
      " |-- Property Type: string (nullable = true)\n",
      " |-- Living Area: string (nullable = true)\n",
      " |-- Zestimate: string (nullable = true)\n",
      " |-- Living Area Unit: string (nullable = true)\n",
      " |-- Has Cooling: string (nullable = true)\n",
      " |-- Cooling: string (nullable = true)\n",
      " |-- Has Fireplace: string (nullable = true)\n",
      " |-- Fireplaces: string (nullable = true)\n",
      " |-- Has Heating: string (nullable = true)\n",
      " |-- Heating: string (nullable = true)\n",
      " |-- Has Parking: string (nullable = true)\n",
      " |-- Parking Capacity: string (nullable = true)\n",
      " |-- Parking: string (nullable = true)\n",
      " |-- Price: string (nullable = true)\n",
      " |-- Currency: string (nullable = true)\n",
      " |-- Year Built: string (nullable = true)\n",
      " |-- Description: string (nullable = true)\n",
      " |-- Time On Zillow: string (nullable = true)\n",
      " |-- Days On Zillow: string (nullable = true)\n",
      " |-- Latitude: string (nullable = true)\n",
      " |-- Longitude: string (nullable = true)\n",
      " |-- View Count: string (nullable = true)\n",
      " |-- Favourite Count: string (nullable = true)\n",
      " |-- Listing Type: string (nullable = true)\n",
      " |-- Agent Name: string (nullable = true)\n",
      " |-- Agent Phone Number: string (nullable = true)\n",
      " |-- Agent Email: string (nullable = true)\n",
      " |-- Agent License Number: string (nullable = true)\n",
      " |-- Agency: string (nullable = true)\n",
      " |-- MLS ID: string (nullable = true)\n",
      " |-- MLS Name: string (nullable = true)\n",
      " |-- HOA Fee: string (nullable = true)\n",
      " |-- Pictures: string (nullable = true)\n",
      "\n"
     ]
    }
   ],
   "source": [
    "spark_zillow.printSchema()"
   ]
  },
  {
   "cell_type": "code",
   "execution_count": 120,
   "id": "d685acce",
   "metadata": {
    "scrolled": true
   },
   "outputs": [],
   "source": [
    "panda = pd.read_csv(\"zillow.csv\")"
   ]
  },
  {
   "cell_type": "code",
   "execution_count": 23,
   "id": "e2c0fe87",
   "metadata": {},
   "outputs": [],
   "source": [
    "city = spark_zillow.select(\"city\", \"State\", \"Zipcode\", \"Zestimate\")"
   ]
  },
  {
   "cell_type": "code",
   "execution_count": 24,
   "id": "f2045707",
   "metadata": {},
   "outputs": [],
   "source": [
    "city = city.withColumn(\"Zestimate\", city.Zestimate.cast(\"Integer\"))"
   ]
  },
  {
   "cell_type": "code",
   "execution_count": 25,
   "id": "3fe56ba2",
   "metadata": {
    "scrolled": true
   },
   "outputs": [
    {
     "name": "stdout",
     "output_type": "stream",
     "text": [
      "root\n",
      " |-- city: string (nullable = true)\n",
      " |-- State: string (nullable = true)\n",
      " |-- Zipcode: string (nullable = true)\n",
      " |-- Zestimate: integer (nullable = true)\n",
      "\n"
     ]
    }
   ],
   "source": [
    "city.printSchema()"
   ]
  },
  {
   "cell_type": "code",
   "execution_count": 26,
   "id": "6c3e661f",
   "metadata": {},
   "outputs": [
    {
     "name": "stdout",
     "output_type": "stream",
     "text": [
      "+-------------+\n",
      "|Avg. Estimate|\n",
      "+-------------+\n",
      "|   1423637.05|\n",
      "+-------------+\n",
      "\n",
      "+-----------------+-----+-------+---------+\n",
      "|             city|State|Zipcode|Zestimate|\n",
      "+-----------------+-----+-------+---------+\n",
      "|Pacific Palisades|   CA|  90272| 90973600|\n",
      "|      Los Angeles|   CA|  90077| 74283200|\n",
      "|      Los Angeles|   CA|  90077| 68731600|\n",
      "|      Los Angeles|   CA|  90049| 67093300|\n",
      "|    Beverly Hills|   CA|  90210| 57991400|\n",
      "|      Los Angeles|   CA|  90049| 57856900|\n",
      "|     Santa Monica|   CA|  90402| 54954800|\n",
      "|      Los Angeles|   CA|  90049| 48765700|\n",
      "|      Los Angeles|   CA|  90024| 48358400|\n",
      "|    Beverly Hills|   CA|  90210| 42357400|\n",
      "|      Los Angeles|   CA|  90077| 40815300|\n",
      "|      Los Angeles|   CA|  90049| 36436300|\n",
      "|      Los Angeles|   CA|  90077| 34882700|\n",
      "|      Los Angeles|   CA|  90024| 34228500|\n",
      "|    Beverly Hills|   CA|  90210| 31501300|\n",
      "|      Los Angeles|   CA|  90077| 31029300|\n",
      "|      Los Angeles|   CA|  90049| 30791700|\n",
      "|    Beverly Hills|   CA|  90210| 30043400|\n",
      "|      Los Angeles|   CA|  90049| 29674000|\n",
      "|    Beverly Hills|   CA|  90210| 29406700|\n",
      "+-----------------+-----+-------+---------+\n",
      "only showing top 20 rows\n",
      "\n"
     ]
    }
   ],
   "source": [
    "from pyspark.sql.functions import col, desc, round, mean\n",
    "city.groupBy().agg(round(mean(\"Zestimate\"), 2).alias(\"Avg. Estimate\")).show()\n",
    "city.sort(desc(\"Zestimate\")).show()"
   ]
  },
  {
   "cell_type": "code",
   "execution_count": 27,
   "id": "edc361ed",
   "metadata": {},
   "outputs": [
    {
     "name": "stdout",
     "output_type": "stream",
     "text": [
      "+-----------------+------------+\n",
      "|             City|Avg Estimate|\n",
      "+-----------------+------------+\n",
      "|    Beverly Hills|   6607482.1|\n",
      "|     Santa Monica|  5819525.64|\n",
      "|Pacific Palisades|  5150585.28|\n",
      "|           Venice|  2354348.96|\n",
      "| West Los Angeles|   2272050.0|\n",
      "|      Studio City|  1828636.84|\n",
      "|       CHATSWORTH|   1825000.0|\n",
      "|         Pasadena|   1805200.0|\n",
      "|           Encino|   1780100.7|\n",
      "|   Marina Del Rey|  1745385.77|\n",
      "|   West Hollywood|  1672417.65|\n",
      "|      Culver City|   1656550.0|\n",
      "|      Westchester|   1611640.0|\n",
      "|      Los Angeles|  1606298.84|\n",
      "|     Sherman Oaks|  1586015.06|\n",
      "|   La Tuna Canyon|   1524100.0|\n",
      "|     Shadow Hills|   1521800.0|\n",
      "|       Box Canyon|   1490900.0|\n",
      "|       Long Beach|   1459200.0|\n",
      "|        Hollywood|   1442300.0|\n",
      "+-----------------+------------+\n",
      "only showing top 20 rows\n",
      "\n"
     ]
    }
   ],
   "source": [
    "city.groupBy(city.city.alias(\"City\")).agg(round(mean(\"Zestimate\"), 2).alias(\"Avg Estimate\")).sort(desc(mean(\"Zestimate\"))).show()"
   ]
  },
  {
   "cell_type": "code",
   "execution_count": 30,
   "id": "592e9bc7",
   "metadata": {},
   "outputs": [],
   "source": [
    "# city.groupBy(\"city\", \"Zipcode\").count().sort(col(\"count\").desc()).show()"
   ]
  },
  {
   "cell_type": "code",
   "execution_count": 29,
   "id": "f820205f",
   "metadata": {},
   "outputs": [],
   "source": [
    "#city.filter(\"city = 'Lancaster' AND Zipcode = 93536\").groupBy().mean(\"Price\").show()\n",
    "#city.filter(\"city = 'Lancaster' AND Zipcode = 93535\").groupBy().mean(\"Price\").show()"
   ]
  },
  {
   "cell_type": "markdown",
   "id": "44f45047",
   "metadata": {},
   "source": [
    "NLP"
   ]
  },
  {
   "cell_type": "code",
   "execution_count": 64,
   "id": "ae2a9986",
   "metadata": {},
   "outputs": [],
   "source": [
    "spark_zillow = spark_zillow.withColumnRenamed(\"Favourite Count\",\"favorite\")\n",
    "des = spark_zillow.select(\"Description\", \"favorite\")"
   ]
  },
  {
   "cell_type": "code",
   "execution_count": 111,
   "id": "895c83f5",
   "metadata": {},
   "outputs": [],
   "source": [
    "panda = pd.read_csv(\"zillow.csv\")\n",
    "panda.insert(2, \"Id\", range(0,34397), True)\n",
    "#panda = panda.rename(columns={\"Unnamed: 0\": \"Id\"})\n",
    "panda = panda[[\"Id\",\"Favourite Count\"]]\n",
    "panda = panda.drop(5901)\n",
    "#panda[\"Favourite Count\"] = pd.to_numeric(panda[\"Favourite Count\"])\n",
    "#fav = spark.createDataFrame(pd.DataFrame(panda))"
   ]
  },
  {
   "cell_type": "code",
   "execution_count": 113,
   "id": "3710069e",
   "metadata": {},
   "outputs": [],
   "source": [
    "panda[\"Favourite Count\"] = pd.to_numeric(panda[\"Favourite Count\"])"
   ]
  },
  {
   "cell_type": "code",
   "execution_count": 136,
   "id": "7373949c",
   "metadata": {},
   "outputs": [
    {
     "name": "stdout",
     "output_type": "stream",
     "text": [
      "root\n",
      " |-- Street Address: string (nullable = true)\n",
      " |-- City: string (nullable = true)\n",
      " |-- County: string (nullable = true)\n",
      " |-- State: string (nullable = true)\n",
      " |-- Country: string (nullable = true)\n",
      " |-- Zipcode: string (nullable = true)\n",
      " |-- Ziilow Id: string (nullable = true)\n",
      " |-- Property Url: string (nullable = true)\n",
      " |-- Bedrooms: string (nullable = true)\n",
      " |-- Bathrooms: string (nullable = true)\n",
      " |-- Property Status: string (nullable = true)\n",
      " |-- Property Type: string (nullable = true)\n",
      " |-- Living Area: string (nullable = true)\n",
      " |-- Zestimate: string (nullable = true)\n",
      " |-- Living Area Unit: string (nullable = true)\n",
      " |-- Has Cooling: string (nullable = true)\n",
      " |-- Cooling: string (nullable = true)\n",
      " |-- Has Fireplace: string (nullable = true)\n",
      " |-- Fireplaces: string (nullable = true)\n",
      " |-- Has Heating: string (nullable = true)\n",
      " |-- Heating: string (nullable = true)\n",
      " |-- Has Parking: string (nullable = true)\n",
      " |-- Parking Capacity: string (nullable = true)\n",
      " |-- Parking: string (nullable = true)\n",
      " |-- Price: string (nullable = true)\n",
      " |-- Currency: string (nullable = true)\n",
      " |-- Year Built: string (nullable = true)\n",
      " |-- Description: string (nullable = true)\n",
      " |-- Time On Zillow: string (nullable = true)\n",
      " |-- Days On Zillow: string (nullable = true)\n",
      " |-- Latitude: string (nullable = true)\n",
      " |-- Longitude: string (nullable = true)\n",
      " |-- View Count: string (nullable = true)\n",
      " |-- Favourite Count: string (nullable = true)\n",
      " |-- Listing Type: string (nullable = true)\n",
      " |-- Agent Name: string (nullable = true)\n",
      " |-- Agent Phone Number: string (nullable = true)\n",
      " |-- Agent Email: string (nullable = true)\n",
      " |-- Agent License Number: string (nullable = true)\n",
      " |-- Agency: string (nullable = true)\n",
      " |-- MLS ID: string (nullable = true)\n",
      " |-- MLS Name: string (nullable = true)\n",
      " |-- HOA Fee: string (nullable = true)\n",
      " |-- Pictures: string (nullable = true)\n",
      "\n"
     ]
    }
   ],
   "source": [
    "spark_zillow.printSchema()"
   ]
  },
  {
   "cell_type": "code",
   "execution_count": 168,
   "id": "272dea48",
   "metadata": {},
   "outputs": [
    {
     "name": "stdout",
     "output_type": "stream",
     "text": [
      "+--------------------+---------------+\n",
      "|         Description|Favourite Count|\n",
      "+--------------------+---------------+\n",
      "|Huge Development ...|              0|\n",
      "+--------------------+---------------+\n",
      "only showing top 1 row\n",
      "\n"
     ]
    }
   ],
   "source": [
    "description = spark_zillow.select(\"Description\", \"Favourite Count\")\n",
    "#description = description.join(fav, on = \"Id\")\n",
    "#description = description.filter(description.Description != \" \")\n",
    "#description = description.select(\"Id\", \"Description\", \"compFavorite\")\n",
    "description.show(1)"
   ]
  },
  {
   "cell_type": "code",
   "execution_count": 169,
   "id": "cbf33876",
   "metadata": {},
   "outputs": [],
   "source": [
    "description = description.withColumnRenamed(\"Favourite Count\", \"favorite\")"
   ]
  },
  {
   "cell_type": "code",
   "execution_count": 170,
   "id": "2ed3e9af",
   "metadata": {},
   "outputs": [],
   "source": [
    "# removes the \"\" from the Description\n",
    "description = description.withColumn(\"Description\", regexp_replace(\"Description\", '\"', ''))"
   ]
  },
  {
   "cell_type": "code",
   "execution_count": 171,
   "id": "3498c11f",
   "metadata": {},
   "outputs": [],
   "source": [
    "description = description.na.drop()\n",
    "description = description.where(description.favorite != 0)"
   ]
  },
  {
   "cell_type": "code",
   "execution_count": 172,
   "id": "876eb5b9",
   "metadata": {},
   "outputs": [],
   "source": [
    "tokenizer = Tokenizer(inputCol = \"Description\", outputCol = \"words\")\n",
    "\n",
    "regexTokenizer = RegexTokenizer(inputCol = \"Description\", \n",
    "                                outputCol = \"words\", pattern = \"\\\\W\")\n",
    "\n",
    "countTokens = udf(lambda x: len(x))"
   ]
  },
  {
   "cell_type": "markdown",
   "id": "62160c95",
   "metadata": {},
   "source": [
    "Tokenizer and RegexTokenizer in this cases does the same things"
   ]
  },
  {
   "cell_type": "code",
   "execution_count": 174,
   "id": "fcad8e87",
   "metadata": {},
   "outputs": [
    {
     "name": "stdout",
     "output_type": "stream",
     "text": [
      "+--------------------+--------+\n",
      "|         Description|favorite|\n",
      "+--------------------+--------+\n",
      "|Wonderful investm...|      39|\n",
      "|3 Bedroom 2 bath ...|       2|\n",
      "|Looking for a mov...|       3|\n",
      "|Pristine and rare...|       3|\n",
      "|           IN ESCROW|       1|\n",
      "+--------------------+--------+\n",
      "only showing top 5 rows\n",
      "\n"
     ]
    }
   ],
   "source": [
    "description.show(5)"
   ]
  },
  {
   "cell_type": "code",
   "execution_count": 175,
   "id": "8eff78ba",
   "metadata": {},
   "outputs": [
    {
     "name": "stdout",
     "output_type": "stream",
     "text": [
      "+--------------------+--------+--------------------+\n",
      "|         Description|favorite|               words|\n",
      "+--------------------+--------+--------------------+\n",
      "|Wonderful investm...|      39|[wonderful, inves...|\n",
      "|3 Bedroom 2 bath ...|       2|[3, bedroom, 2, b...|\n",
      "|Looking for a mov...|       3|[looking, for, a,...|\n",
      "|Pristine and rare...|       3|[pristine, and, r...|\n",
      "|           IN ESCROW|       1|        [in, escrow]|\n",
      "+--------------------+--------+--------------------+\n",
      "only showing top 5 rows\n",
      "\n"
     ]
    }
   ],
   "source": [
    "tokenized = tokenizer.transform(description)\n",
    "tokenized.show(5)"
   ]
  },
  {
   "cell_type": "code",
   "execution_count": 176,
   "id": "44b1c0e2",
   "metadata": {},
   "outputs": [
    {
     "name": "stdout",
     "output_type": "stream",
     "text": [
      "+--------------------+--------+--------------------+\n",
      "|         Description|favorite|               words|\n",
      "+--------------------+--------+--------------------+\n",
      "|Wonderful investm...|      39|[wonderful, inves...|\n",
      "|3 Bedroom 2 bath ...|       2|[3, bedroom, 2, b...|\n",
      "|Looking for a mov...|       3|[looking, for, a,...|\n",
      "|Pristine and rare...|       3|[pristine, and, r...|\n",
      "|           IN ESCROW|       1|        [in, escrow]|\n",
      "+--------------------+--------+--------------------+\n",
      "only showing top 5 rows\n",
      "\n"
     ]
    }
   ],
   "source": [
    "regexTokenized = regexTokenizer.transform(description)\n",
    "regexTokenized.show(5)"
   ]
  },
  {
   "cell_type": "code",
   "execution_count": 177,
   "id": "023063fe",
   "metadata": {},
   "outputs": [],
   "source": [
    "## Stop Word Removal"
   ]
  },
  {
   "cell_type": "code",
   "execution_count": 178,
   "id": "a0d7e47f",
   "metadata": {},
   "outputs": [],
   "source": [
    "from pyspark.ml.feature import StopWordsRemover"
   ]
  },
  {
   "cell_type": "code",
   "execution_count": 179,
   "id": "c14caa4a",
   "metadata": {},
   "outputs": [],
   "source": [
    "remover = StopWordsRemover(inputCol = \"words\", outputCol = \"cleaned\")"
   ]
  },
  {
   "cell_type": "code",
   "execution_count": 180,
   "id": "02b19ec0",
   "metadata": {},
   "outputs": [
    {
     "name": "stdout",
     "output_type": "stream",
     "text": [
      "+--------------------+--------+--------------------+--------------------+\n",
      "|         Description|favorite|               words|             cleaned|\n",
      "+--------------------+--------+--------------------+--------------------+\n",
      "|Wonderful investm...|      39|[wonderful, inves...|[wonderful, inves...|\n",
      "|3 Bedroom 2 bath ...|       2|[3, bedroom, 2, b...|[3, bedroom, 2, b...|\n",
      "|Looking for a mov...|       3|[looking, for, a,...|[looking, move, r...|\n",
      "|Pristine and rare...|       3|[pristine, and, r...|[pristine, rarely...|\n",
      "|           IN ESCROW|       1|        [in, escrow]|            [escrow]|\n",
      "+--------------------+--------+--------------------+--------------------+\n",
      "only showing top 5 rows\n",
      "\n"
     ]
    }
   ],
   "source": [
    "clean = remover.transform(regexTokenized)\n",
    "clean.show(5)"
   ]
  },
  {
   "cell_type": "code",
   "execution_count": 181,
   "id": "8c11d33e",
   "metadata": {},
   "outputs": [
    {
     "name": "stdout",
     "output_type": "stream",
     "text": [
      "+--------------------+--------+--------------------+--------------------+-----+\n",
      "|         Description|favorite|               words|             cleaned|token|\n",
      "+--------------------+--------+--------------------+--------------------+-----+\n",
      "|Wonderful investm...|      39|[wonderful, inves...|[wonderful, inves...|   14|\n",
      "|3 Bedroom 2 bath ...|       2|[3, bedroom, 2, b...|[3, bedroom, 2, b...|   34|\n",
      "|Looking for a mov...|       3|[looking, for, a,...|[looking, move, r...|  103|\n",
      "|Pristine and rare...|       3|[pristine, and, r...|[pristine, rarely...|   92|\n",
      "|           IN ESCROW|       1|        [in, escrow]|            [escrow]|    1|\n",
      "+--------------------+--------+--------------------+--------------------+-----+\n",
      "only showing top 5 rows\n",
      "\n"
     ]
    }
   ],
   "source": [
    "clean = clean.withColumn(\"token\", countTokens(col(\"cleaned\")))\n",
    "clean.show(5)"
   ]
  },
  {
   "cell_type": "code",
   "execution_count": 182,
   "id": "9baae994",
   "metadata": {},
   "outputs": [],
   "source": [
    "## N-grams"
   ]
  },
  {
   "cell_type": "code",
   "execution_count": 183,
   "id": "3d4a3244",
   "metadata": {},
   "outputs": [],
   "source": [
    "from pyspark.ml.feature import NGram"
   ]
  },
  {
   "cell_type": "code",
   "execution_count": 184,
   "id": "95013330",
   "metadata": {},
   "outputs": [],
   "source": [
    "bigrams = NGram(n = 2, inputCol = \"cleaned\", outputCol = \"bigrams\")"
   ]
  },
  {
   "cell_type": "code",
   "execution_count": 185,
   "id": "ec6b4346",
   "metadata": {},
   "outputs": [
    {
     "name": "stdout",
     "output_type": "stream",
     "text": [
      "+--------------------------------------------------------------------------------------------------------------------------------------------------------------------------------------------------------+\n",
      "|bigrams                                                                                                                                                                                                 |\n",
      "+--------------------------------------------------------------------------------------------------------------------------------------------------------------------------------------------------------+\n",
      "|[wonderful investment, investment opportunity, opportunity first, first time, time buyers, buyers investors, investors spacious, spacious house, house nice, nice yard, yard pool, pool want, want miss]|\n",
      "+--------------------------------------------------------------------------------------------------------------------------------------------------------------------------------------------------------+\n",
      "only showing top 1 row\n",
      "\n"
     ]
    }
   ],
   "source": [
    "bigram_df = bigrams.transform(clean)\n",
    "bigram_df.select(\"bigrams\").show(1, truncate = False)"
   ]
  },
  {
   "cell_type": "code",
   "execution_count": 186,
   "id": "9b0eb767",
   "metadata": {},
   "outputs": [],
   "source": [
    "## feature extraction: term frequencey-inverse doc frequency\n",
    "## shows the importance of a term to a document in a corpus"
   ]
  },
  {
   "cell_type": "code",
   "execution_count": 187,
   "id": "424f48ac",
   "metadata": {},
   "outputs": [],
   "source": [
    "from pyspark.ml.feature import HashingTF, IDF"
   ]
  },
  {
   "cell_type": "code",
   "execution_count": 188,
   "id": "9996e587",
   "metadata": {},
   "outputs": [],
   "source": [
    "# hash collisions for a small number of features, say 20\n",
    "# we need to make sure the numFeatures is big enough\n",
    "hashing = HashingTF(inputCol = \"cleaned\", outputCol = \"rawFeatures\", numFeatures = 300)\n",
    "featurized = hashing.transform(clean)"
   ]
  },
  {
   "cell_type": "code",
   "execution_count": 189,
   "id": "75d2c2d9",
   "metadata": {},
   "outputs": [
    {
     "name": "stdout",
     "output_type": "stream",
     "text": [
      "+----------------------------------------------------------------------------------------------------------------+\n",
      "|rawFeatures                                                                                                     |\n",
      "+----------------------------------------------------------------------------------------------------------------+\n",
      "|(300,[36,103,112,129,160,162,170,176,181,224,229,257,271],[1.0,1.0,2.0,1.0,1.0,1.0,1.0,1.0,1.0,1.0,1.0,1.0,1.0])|\n",
      "+----------------------------------------------------------------------------------------------------------------+\n",
      "only showing top 1 row\n",
      "\n"
     ]
    }
   ],
   "source": [
    "featurized.select(\"rawFeatures\").show(1, truncate = False)"
   ]
  },
  {
   "cell_type": "code",
   "execution_count": 191,
   "id": "794a2050",
   "metadata": {},
   "outputs": [
    {
     "name": "stdout",
     "output_type": "stream",
     "text": [
      "+--------------------+--------+--------------------+--------------------+-----+--------------------+\n",
      "|         Description|favorite|               words|             cleaned|token|         rawFeatures|\n",
      "+--------------------+--------+--------------------+--------------------+-----+--------------------+\n",
      "|Wonderful investm...|      39|[wonderful, inves...|[wonderful, inves...|   14|(300,[36,103,112,...|\n",
      "|3 Bedroom 2 bath ...|       2|[3, bedroom, 2, b...|[3, bedroom, 2, b...|   34|(300,[4,19,27,28,...|\n",
      "|Looking for a mov...|       3|[looking, for, a,...|[looking, move, r...|  103|(300,[0,4,14,15,1...|\n",
      "|Pristine and rare...|       3|[pristine, and, r...|[pristine, rarely...|   92|(300,[0,18,19,27,...|\n",
      "|           IN ESCROW|       1|        [in, escrow]|            [escrow]|    1|   (300,[289],[1.0])|\n",
      "+--------------------+--------+--------------------+--------------------+-----+--------------------+\n",
      "only showing top 5 rows\n",
      "\n"
     ]
    }
   ],
   "source": [
    "featurized.show(5)"
   ]
  },
  {
   "cell_type": "code",
   "execution_count": 177,
   "id": "361623a5",
   "metadata": {},
   "outputs": [
    {
     "name": "stdout",
     "output_type": "stream",
     "text": [
      "root\n",
      " |-- favorite: long (nullable = true)\n",
      " |-- rawFeatures: vector (nullable = true)\n",
      "\n"
     ]
    }
   ],
   "source": [
    "final = featurized.select(\"favorite\", \"rawFeatures\")\n",
    "final.printSchema()"
   ]
  },
  {
   "cell_type": "code",
   "execution_count": 178,
   "id": "fa2e52e0",
   "metadata": {},
   "outputs": [
    {
     "name": "stdout",
     "output_type": "stream",
     "text": [
      "root\n",
      " |-- favorite: integer (nullable = true)\n",
      " |-- rawFeatures: vector (nullable = true)\n",
      "\n"
     ]
    }
   ],
   "source": [
    "final = final.withColumn(\"favorite\", final.favorite.cast(\"Integer\"))\n",
    "final.printSchema()"
   ]
  },
  {
   "cell_type": "code",
   "execution_count": null,
   "id": "a27399b2",
   "metadata": {},
   "outputs": [],
   "source": []
  },
  {
   "cell_type": "code",
   "execution_count": null,
   "id": "4bc3f1a9",
   "metadata": {},
   "outputs": [],
   "source": []
  },
  {
   "cell_type": "code",
   "execution_count": null,
   "id": "5c4eb12a",
   "metadata": {},
   "outputs": [],
   "source": []
  },
  {
   "cell_type": "code",
   "execution_count": 37,
   "id": "b74df21c",
   "metadata": {},
   "outputs": [
    {
     "name": "stdout",
     "output_type": "stream",
     "text": [
      "Training Dataset Count: 632\n",
      "Test Dataset Count: 265\n"
     ]
    }
   ],
   "source": [
    "clean = clean.filter('Id != \" \"')\n",
    "(trainingData, testData) = clean.randomSplit([0.7, 0.3], seed = 100)\n",
    "print(\"Training Dataset Count: \" + str(trainingData.count()))\n",
    "print(\"Test Dataset Count: \" + str(testData.count()))"
   ]
  },
  {
   "cell_type": "code",
   "execution_count": null,
   "id": "3a4afabf",
   "metadata": {},
   "outputs": [],
   "source": [
    "import pyspark.ml.evaluation as evals\n",
    "evaluator = evals.MulticlassClassificationEvaluator()"
   ]
  },
  {
   "cell_type": "code",
   "execution_count": null,
   "id": "96c0c185",
   "metadata": {},
   "outputs": [],
   "source": []
  }
 ],
 "metadata": {
  "kernelspec": {
   "display_name": "Python 3",
   "language": "python",
   "name": "python3"
  },
  "language_info": {
   "codemirror_mode": {
    "name": "ipython",
    "version": 3
   },
   "file_extension": ".py",
   "mimetype": "text/x-python",
   "name": "python",
   "nbconvert_exporter": "python",
   "pygments_lexer": "ipython3",
   "version": "3.8.8"
  }
 },
 "nbformat": 4,
 "nbformat_minor": 5
}
